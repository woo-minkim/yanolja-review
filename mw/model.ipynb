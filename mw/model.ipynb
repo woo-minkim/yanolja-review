{
 "cells": [
  {
   "cell_type": "code",
   "execution_count": 39,
   "metadata": {},
   "outputs": [
    {
     "data": {
      "text/plain": [
       "[{'review': '30층 오션뷰였는데 앉아있기만 해도 힐링 그 자체였습니다.\\r\\n1층까지 환승해서 가야되는 불편함 말고는 대만족입니다!\\r\\n출장으로 내려왔지만 다시오고싶습니다.',\n",
       "  'stars': '5점',\n",
       "  'date': '2024.04.12'},\n",
       " {'review': '뷰가 정말 좋아요!\\r\\n바로앞에 해운대바다고 1분거리에 해운대야시장\\r\\n위치적으로도 뷰도 최곱니다ㅋㅋㅋ\\r\\n그리고 직원분들도 너무 친절하세요!!!\\r\\n아빠모시고왔는데 만족해하셔서 기분이 좋네요~후기가 많이 갈려서 걱정했는데 청결했어요!',\n",
       "  'stars': '5점',\n",
       "  'date': '2024.05.05'},\n",
       " {'review': '엘리베이터 환승이 불편했지만\\n객실내 깔끔하게 정리가 잘 되어 있고\\n전망이 나쁘지 않아 좋았어요',\n",
       "  'stars': '4점',\n",
       "  'date': '3일 전'},\n",
       " {'review': '엄청 깨끄ㅅ하고 정갈함 단지 넓은만큼 욕실 원풀 설치 욕조가 없어 아쉽고 샤워부스도 좁아 아쉬웠다 바다 뷰는 낯,밤 모두 아름다웠다',\n",
       "  'stars': '5점',\n",
       "  'date': '2024.10.23'},\n",
       " {'review': '직원들이 굉장히 친절해서 급한 일로 업무처리 가능하게 도와주셔서 감사했습니다 침구가 좋아서 무엇보다 가족들이 모두 잠을 잘 잤습니다 건물 내 호텔이 3개라 정확히 확인하고 이용할 필요는 있습니다(엘리베이터환승 등) 6층에 프런트 있고 그 중에도 왼쪽이었습니다 모르고 지난 번엔 건물 내 다른 호텔 이용했었는데 이번에 이용한 해운대 씨클라우드 호텔 앤 레지던스가 더 좋았습니다 같은 건물이라도 어디서 어떻게 관리하는지에 따라 다르긴 하네요 잘 쉬고 갑니다',\n",
       "  'stars': '5점',\n",
       "  'date': '2024.09.21'}]"
      ]
     },
     "execution_count": 39,
     "metadata": {},
     "output_type": "execute_result"
    }
   ],
   "source": [
    "import json \n",
    "\n",
    "with open('레지던스_reviews.json','r',encoding='utf-8')as f:\n",
    "    review_list = json.load(f)\n",
    "\n",
    "review_list[:5]"
   ]
  },
  {
   "cell_type": "code",
   "execution_count": 18,
   "metadata": {},
   "outputs": [
    {
     "data": {
      "text/plain": [
       "(227, 193)"
      ]
     },
     "execution_count": 18,
     "metadata": {},
     "output_type": "execute_result"
    }
   ],
   "source": [
    "good_cnt, bad_cnt = 0, 0\n",
    "\n",
    "for review in review_list:\n",
    "    if review['stars'] == '5점':\n",
    "        good_cnt += 1\n",
    "    else:\n",
    "        bad_cnt += 1\n",
    "\n",
    "good_cnt, bad_cnt"
   ]
  },
  {
   "cell_type": "code",
   "execution_count": 19,
   "metadata": {},
   "outputs": [
    {
     "data": {
      "text/plain": [
       "(['[REVIEW_START]30층 오션뷰였는데 앉아있기만 해도 힐링 그 자체였습니다.\\r\\n1층까지 환승해서 가야되는 불편함 말고는 대만족입니다!\\r\\n출장으로 내려왔지만 다시오고싶습니다.[REVIEW_END]',\n",
       "  '[REVIEW_START]뷰가 정말 좋아요!\\r\\n바로앞에 해운대바다고 1분거리에 해운대야시장\\r\\n위치적으로도 뷰도 최곱니다ㅋㅋㅋ\\r\\n그리고 직원분들도 너무 친절하세요!!!\\r\\n아빠모시고왔는데 만족해하셔서 기분이 좋네요~후기가 많이 갈려서 걱정했는데 청결했어요![REVIEW_END]',\n",
       "  '[REVIEW_START]엄청 깨끄ㅅ하고 정갈함 단지 넓은만큼 욕실 원풀 설치 욕조가 없어 아쉽고 샤워부스도 좁아 아쉬웠다 바다 뷰는 낯,밤 모두 아름다웠다[REVIEW_END]',\n",
       "  '[REVIEW_START]직원들이 굉장히 친절해서 급한 일로 업무처리 가능하게 도와주셔서 감사했습니다 침구가 좋아서 무엇보다 가족들이 모두 잠을 잘 잤습니다 건물 내 호텔이 3개라 정확히 확인하고 이용할 필요는 있습니다(엘리베이터환승 등) 6층에 프런트 있고 그 중에도 왼쪽이었습니다 모르고 지난 번엔 건물 내 다른 호텔 이용했었는데 이번에 이용한 해운대 씨클라우드 호텔 앤 레지던스가 더 좋았습니다 같은 건물이라도 어디서 어떻게 관리하는지에 따라 다르긴 하네요 잘 쉬고 갑니다[REVIEW_END]',\n",
       "  '[REVIEW_START]아빠모시고가는 여행이라 오션뷰와 접근성보고 예약했어요! 총3박4일 숙박했고 2604호 였어요~\\n안좋은후기도 많았지만 제가 배정받은호수는 사진에 보이는 뷰 그대로였어요ㅎㅎ\\n뷰도 최고고 깨끗했어요^^\\n화장실도 좀 좁지만 있을건 다 있고 욕실슬리퍼도있고 괜찮았어요\\n드라이기는 좀 약해서 제가 가져간 드라이기 사용했어요!\\n다음에 부산가면 또 숙박하려구요~\\n직원분도 엄청 친절해요^^\\n제가 짐캐리로 짐운송서비스 신청했었는데 숙소에 도착했다고 직접 전화도 주셨어요ㅎㅎ\\n매일 청소도 해주셨구 여튼 아빠도 만족하셨어요![REVIEW_END]'],\n",
       " ['[REVIEW_START]엘리베이터 환승이 불편했지만\\n객실내 깔끔하게 정리가 잘 되어 있고\\n전망이 나쁘지 않아 좋았어요[REVIEW_END]',\n",
       "  '[REVIEW_START]숙박한날 비가 엄청 왔어요. 비가 건물 때리는\\r\\n소리가 엄청나더라구요. 하지만 숙소안에서 비 오는 바다 감상하기엔 좋았어요. 거실에 베드 하나, 방에 킹베드 있었고 동창 6명이서 좋은 시간 보냈어요. 냉장고 커서 음료도 많이 쟁여놓고, 괜찮았어요. 청결엔 문제없었고 수건이랑 가운은 인당이 아니었어요. 근처에 음식점이랑 폄의점 있어서 비와도 큰 불편없이 잘 해결했습니다.[REVIEW_END]',\n",
       "  '[REVIEW_START]대체적으로 만족합니다 \\n다만 시설이 노후된느낌\\n침대 매트리스가  좋치못함\\n가성비로써 이해됨\\n룸2개 예약했는데\\n한쪽방은 방바닥이 따뜻한 느낌인데\\n아들과 자는 방은  그런가 하고1박했는데\\n딸과 아이엄마의 방은 따뜻한 방인데 \\n남자방은 냉방이라고ㅎㅎ;;\\n프런트에 전화하니 \\n바로 와주셔서 확인하고  온풍기 가져다 주심.[REVIEW_END]',\n",
       "  '[REVIEW_START]해운대 해수욕장이랑도 가깝고 좋았는데 엘베가 한번 환승해야해서 조금 불편하긴 했네요 ㅠㅠ\\n그리고 드라이기도 화장실에 있어서 머리말리기가 좀 불편했어요 ㅠㅠ 화장대쪽이나 밖에 있었으면 더 좋았을 거 같아요! 빗도 얇은 꼬리빗(?)처럼 생긴거 하나만 있어서 머리 긴 저는 좀 힘들었네요 ㅋㅋ ㅠㅠ 롤빗이나 나무빗 같은거 있을줄 알았는데 ㅠㅠ\\n그래도 위치는 해수욕장 바로 앞이고 뷰도 바다가 정말 조금 보이긴 했는데 나름 괜찮았습니다[REVIEW_END]',\n",
       "  '[REVIEW_START]단점)엘리베이터 환승 불편 \\r\\n호텔 특유의 오래 된 냄새가 남\\r\\n화장실 문 안잠김 ㅡㅡ  \\r\\n일회용 칫솔이 없음 \\r\\n\\r\\n장점)뷰 쏘쏘 \\r\\n해운대 해변이 보임\\r\\n방음이 잘됨 \\r\\n방이 넓찍함[REVIEW_END]'])"
      ]
     },
     "execution_count": 19,
     "metadata": {},
     "output_type": "execute_result"
    }
   ],
   "source": [
    "reviews_good, reviews_bad = [], []\n",
    "\n",
    "for review in review_list:\n",
    "    if review['stars'] == '5점':\n",
    "        reviews_good.append('[REVIEW_START]' + review['review'] + '[REVIEW_END]')\n",
    "    else:\n",
    "        reviews_bad.append('[REVIEW_START]' + review['review'] + '[REVIEW_END]')\n",
    "\n",
    "reviews_good[:5], reviews_bad[:5]"
   ]
  },
  {
   "cell_type": "code",
   "execution_count": 20,
   "metadata": {},
   "outputs": [],
   "source": [
    "import datetime\n",
    "from dateutil import parser\n",
    "\n",
    "def preprocess_reviews(path='레지던스_reviews.json'):\n",
    "    with open(path, 'r', encoding='utf-8') as f:\n",
    "        review_list = json.load(f)\n",
    "    \n",
    "    reviews_good, reviews_bad = [], []\n",
    "\n",
    "    current_date = datetime.datetime.now()\n",
    "    date_boundary = current_date - datetime.timedelta(days=6*30)\n",
    "\n",
    "    for review in review_list:\n",
    "        review_date_str = review['date']\n",
    "        try:\n",
    "            review_date = parser.parse(review_date_str)\n",
    "        except (ValueError, TypeError):\n",
    "            review_date = current_date\n",
    "        \n",
    "        if review_date < date_boundary:\n",
    "            continue\n",
    "\n",
    "        if review['stars'] == '5점':\n",
    "            reviews_good.append('[REVIEW_START]' + review['review'] + '[REVIEW_END]')\n",
    "        else:\n",
    "            reviews_bad.append('[REVIEW_START]' + review['review'] + '[REVIEW_END]')\n",
    "\n",
    "    review_good_text = '\\n'.join(reviews_good)\n",
    "    review_bad_text = '\\n'.join(reviews_bad)\n",
    "\n",
    "    return review_good_text, review_bad_text\n",
    "\n",
    "good, bad = preprocess_reviews(\"레지던스_reviews.json\")"
   ]
  },
  {
   "cell_type": "code",
   "execution_count": 21,
   "metadata": {},
   "outputs": [],
   "source": [
    "PROMPT_BASELINE = f\"\"\"아래 숙소에 대해서 3문장 내로 요약해줘:\"\"\""
   ]
  },
  {
   "cell_type": "code",
   "execution_count": 40,
   "metadata": {},
   "outputs": [],
   "source": [
    "def pairwise_eval(reviews, answer_a, answer_b):\n",
    "    eval_prompt = f\"\"\"[System]\n",
    "Please act as an impartial judge and evaluate the quality of the Korean summaries provided by two\n",
    "AI assistants to the set of user reviews on accommodations displayed below. You should choose the assistant that\n",
    "follows the user’s instructions and answers the user’s question better. Your evaluation\n",
    "should consider factors such as the helpfulness, relevance, accuracy, depth, creativity,\n",
    "and level of detail of their responses. Begin your evaluation by comparing the two\n",
    "responses and provide a short explanation. Avoid any position biases and ensure that the\n",
    "order in which the responses were presented does not influence your decision. Do not allow\n",
    "the length of the responses to influence your evaluation. Do not favor certain names of\n",
    "the assistants. Be as objective as possible. After providing your explanation, output your\n",
    "final verdict by strictly following this format: \"[[A]]\" if assistant A is better, \"[[B]]\"\n",
    "if assistant B is better, and \"[[C]]\" for a tie.\n",
    "[User Reviews]\n",
    "{reviews}\n",
    "[The Start of Assistant A’s Answer]\n",
    "{answer_a}\n",
    "[The End of Assistant A’s Answer]\n",
    "[The Start of Assistant B’s Answer]\n",
    "{answer_b}\n",
    "[The End of Assistant B’s Answer]\"\"\"\n",
    "    \n",
    "    completion = client.chat.completions.create(\n",
    "        model='gpt-4o-2024-05-13',\n",
    "        messages=[{'role': 'user', 'content': eval_prompt}],\n",
    "        temperature=0.0\n",
    "    )\n",
    "\n",
    "    return completion"
   ]
  },
  {
   "cell_type": "code",
   "execution_count": 41,
   "metadata": {},
   "outputs": [
    {
     "data": {
      "text/plain": [
       "True"
      ]
     },
     "execution_count": 41,
     "metadata": {},
     "output_type": "execute_result"
    }
   ],
   "source": [
    "from openai import OpenAI\n",
    "import os\n",
    "from dotenv import load_dotenv\n",
    "\n",
    "load_dotenv()"
   ]
  },
  {
   "cell_type": "code",
   "execution_count": 42,
   "metadata": {},
   "outputs": [
    {
     "name": "stdout",
     "output_type": "stream",
     "text": [
      "해운대에 위치한 숙소로 깨끗하고 정갈한 객실을 제공하며, 바다 뷰가 아름다운 곳이지만 욕조가 없고 샤워부스가 좁은 점이 아쉬웠다는 후기가 있습니다. 직원들이 친절하고 침구가 편안하여 가족 모두 잘 쉬었다고 하며, 건물 내 호텔이 3개이므로 정확한 확인이 필요하다는 후기도 있습니다. 위치가 좋고 가격대비 시설이 좋아 가성비가 뛰어나다는 후기도 있습니다.\n"
     ]
    }
   ],
   "source": [
    "reviews, _ = preprocess_reviews(path = \"./레지던스_reviews.json\")\n",
    "client = OpenAI(api_key=os.getenv('OPENAI_API_KEY'))\n",
    "\n",
    "def summarize(reviews, prompt, temperature=0.0, model='gpt-3.5-turbo-0125'):\n",
    "    prompt = prompt + '\\n\\n' + reviews\n",
    "\n",
    "    completion = client.chat.completions.create(\n",
    "        model=model,\n",
    "        messages=[{'role': 'user', 'content': prompt}],\n",
    "        temperature=temperature\n",
    "    )\n",
    "\n",
    "    return completion\n",
    "\n",
    "print(summarize(reviews, PROMPT_BASELINE).choices[0].message.content)"
   ]
  },
  {
   "cell_type": "code",
   "execution_count": 43,
   "metadata": {},
   "outputs": [],
   "source": [
    "eval_count = 10\n",
    "\n",
    "summaries_baseline = [summarize(reviews, PROMPT_BASELINE,temperature=1.0).choices[0].message.content for _ in range(eval_count)]\n",
    "summaries_baseline\n",
    "\n",
    "summary_real_20241003 = '교통이 편리한 위치에 있으며, 청결한 상태를 유지하고 있어 많은 후기가 긍정적입니다. 객실은 넷플릭스 시청을 위한 기기 대여가 필요하지만 전반적으로 깔끔하고 편안한 분위기를 제공합니다. 직원들의 친절한 응대가 인상적이며, 조식과 디너 서비스 역시 우수하다는 평이 있습니다. 다만, 방음과 시설 노후화 관련 아쉬운 점이 언급되기도 했습니다. 종합적으로 접근성과 서비스가 우수한 조건을 갖춘 숙소입니다.'"
   ]
  },
  {
   "cell_type": "code",
   "execution_count": 44,
   "metadata": {},
   "outputs": [
    {
     "name": "stderr",
     "output_type": "stream",
     "text": [
      "100%|██████████| 10/10 [00:41<00:00,  4.14s/it]"
     ]
    },
    {
     "name": "stdout",
     "output_type": "stream",
     "text": [
      "Wins: 9, Loses: 1, Ties: 0\n"
     ]
    },
    {
     "name": "stderr",
     "output_type": "stream",
     "text": [
      "\n"
     ]
    }
   ],
   "source": [
    "from tqdm import tqdm\n",
    "\n",
    "def pairwise_eval_batch(reviews, answers_a, answers_b):\n",
    "    a_cnt,b_cnt,draw_cnt=0,0,0 \n",
    "    for i in tqdm(range(len(answers_a))):\n",
    "        completion = pairwise_eval(reviews, answers_a[i], answers_b[i]) \n",
    "        verdict_text = completion.choices[0].message.content \n",
    "\n",
    "        if '[[A]]' in verdict_text:\n",
    "            a_cnt += 1\n",
    "        elif '[[B]]' in verdict_text:\n",
    "            b_cnt += 1\n",
    "        elif '[[C]]' in verdict_text:\n",
    "            draw_cnt += 1\n",
    "        else: \n",
    "            print(\"Evaluation Error\")\n",
    "\n",
    "    return a_cnt, b_cnt, draw_cnt\n",
    "\n",
    "wins, loses, ties = pairwise_eval_batch(reviews, summaries_baseline, [summary_real_20241003]*eval_count) \n",
    "print(f\"Wins: {wins}, Loses: {loses}, Ties: {ties}\")"
   ]
  },
  {
   "cell_type": "markdown",
   "metadata": {},
   "source": [
    "## One-Shot"
   ]
  },
  {
   "cell_type": "code",
   "execution_count": 45,
   "metadata": {},
   "outputs": [],
   "source": [
    "prompt = \"당신은 요약 전문가입니다. 사용자 숙소 리뷰들이 주어졌을 때 요약하는 것이 당신의 목표입니다.\""
   ]
  },
  {
   "cell_type": "code",
   "execution_count": 46,
   "metadata": {},
   "outputs": [],
   "source": [
    "reviews_1shot, _ = preprocess_reviews(path = \"./레지던스_reviews.json\") \n",
    "summary_1shot = summarize(reviews_1shot, prompt, temperature=1.0, model = 'gpt-4o-2024-05-13').choices[0].message.content\n"
   ]
  },
  {
   "cell_type": "code",
   "execution_count": 47,
   "metadata": {},
   "outputs": [
    {
     "name": "stderr",
     "output_type": "stream",
     "text": [
      "100%|██████████| 10/10 [00:42<00:00,  4.22s/it]"
     ]
    },
    {
     "name": "stdout",
     "output_type": "stream",
     "text": [
      "Wins: 10, Loses: 0, Ties: 0\n"
     ]
    },
    {
     "name": "stderr",
     "output_type": "stream",
     "text": [
      "\n"
     ]
    }
   ],
   "source": [
    "prompt_1shot = f\"\"\"당신은 요약 전문가입니다. 사용자 숙소 리뷰들이 주어졌을 때 요약하는 것이 당신의 목표입니다.\n",
    "\n",
    "다음은 요약 예시입니다.\n",
    "예시 요약 결과:\n",
    "{reviews_1shot}\n",
    "\n",
    "아래 숙소 리뷰들에 대해 요약해주세요:\"\"\"\n",
    "\n",
    "eval_count = 10\n",
    "summaries = [summarize(reviews, prompt_1shot, temperature=1.0).choices[0].message.content for _ in range(eval_count)]\n",
    "wins, losses, ties = pairwise_eval_batch(reviews, summaries, [summary_real_20241003 for _ in range(eval_count)])\n",
    "print(f\"Wins: {wins}, Loses: {losses}, Ties: {ties}\")"
   ]
  },
  {
   "cell_type": "markdown",
   "metadata": {},
   "source": [
    "## TWO - SHOT"
   ]
  },
  {
   "cell_type": "code",
   "execution_count": null,
   "metadata": {},
   "outputs": [
    {
     "name": "stderr",
     "output_type": "stream",
     "text": [
      "100%|██████████| 10/10 [00:43<00:00,  4.30s/it]"
     ]
    },
    {
     "name": "stdout",
     "output_type": "stream",
     "text": [
      "Wins: 10, Loses: 0, Ties: 0\n"
     ]
    },
    {
     "name": "stderr",
     "output_type": "stream",
     "text": [
      "\n"
     ]
    }
   ],
   "source": [
    "prompt_2shot = f\"\"\"당신은 요약 전문가입니다. 사용자 숙소 리뷰들이 주어졌을 때 요약하는 것이 당신의 목표입니다.\n",
    "\n",
    "다음은 요약 예시입니다.\n",
    "좋은 리뷰 요약 결과:\n",
    "{reviews_1shot}\n",
    "나쁜 리뷰 요약 결과:\n",
    "{summary_1shot}\n",
    "\n",
    "아래 숙소 리뷰들에 대해 요약해주세요:\"\"\"\n",
    "eval_count = 10\n",
    "summaries = [summarize(reviews, prompt_2shot, temperature=1.0).choices[0].message.content for _ in range(eval_count)]\n",
    "wins, losses, ties = pairwise_eval_batch(reviews, summaries, [summary_real_20241003 for _ in range(len(eval_count))])\n",
    "print(f\"Wins: {wins}, Loses: {losses}, Ties: {ties}\")"
   ]
  }
 ],
 "metadata": {
  "kernelspec": {
   "display_name": ".venv",
   "language": "python",
   "name": "python3"
  },
  "language_info": {
   "codemirror_mode": {
    "name": "ipython",
    "version": 3
   },
   "file_extension": ".py",
   "mimetype": "text/x-python",
   "name": "python",
   "nbconvert_exporter": "python",
   "pygments_lexer": "ipython3",
   "version": "3.12.4"
  }
 },
 "nbformat": 4,
 "nbformat_minor": 2
}
